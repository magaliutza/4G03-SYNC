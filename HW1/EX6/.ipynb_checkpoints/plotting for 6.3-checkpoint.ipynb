{
 "cells": [
  {
   "cell_type": "code",
   "execution_count": 40,
   "metadata": {},
   "outputs": [
    {
     "name": "stderr",
     "output_type": "stream",
     "text": [
      "/usr/local/lib/python3.6/site-packages/ipykernel_launcher.py:4: VisibleDeprecationWarning: Reading unicode strings without specifying the encoding argument is deprecated. Set the encoding, use None for the system default.\n",
      "  after removing the cwd from sys.path.\n"
     ]
    },
    {
     "data": {
      "image/png": "[encoded data removed]",
      "text/plain": [
       "<Figure size 432x288 with 1 Axes>"
      ]
     },
     "metadata": {
      "needs_background": "light"
     },
     "output_type": "display_data"
    }
   ],
   "source": [
    "import numpy as np\n",
    "import matplotlib.pyplot as plt\n",
    "\n",
    "incoming = np.genfromtxt('dat.csv', delimiter = ',', skip_header = 1, usecols = (0,1,2,3), dtype=None)\n",
    "\n",
    "#print(incoming[5][1])\n",
    "trap_inter = [incoming[i][1] for i in range(0,15)]\n",
    "trap_timer = [incoming[i][2] for i in range(0,15)]\n",
    "trap_preciser = [incoming[i][3] for i in range(0,15)]\n",
    "\n",
    "#print(incoming)\n",
    "#print(trap_timer)\n",
    "\n",
    "romb_inter = [incoming[i][1] for i in range (15,30)]\n",
    "romb_timer = [incoming[i][2] for i in range (15,30)]\n",
    "romb_preciser = [incoming[i][3] for i in range (15,30)]\n",
    "\n",
    "plt.scatter(trap_inter, trap_timer, c='blue', marker='o')\n",
    "plt.show()\n",
    "plt.scatter(trap_inter, trap_preciser, c='blue', marker='o')\n",
    "plt.show()\n"
   ]
  },
  {
   "cell_type": "code",
   "execution_count": 14,
   "metadata": {},
   "outputs": [
    {
     "name": "stdout",
     "output_type": "stream",
     "text": [
      "[[1.00000e+00 0.00000e+00 1.04720e+02]\n",
      " [2.00000e+00 1.00000e-02 1.01342e+02]\n",
      " [4.00000e+00 1.00000e-02 1.00333e+02]\n",
      " [8.00000e+00 2.00000e-02 1.00083e+02]\n",
      " [1.60000e+01 5.00000e-02 1.00021e+02]\n",
      " [3.20000e+01 8.00000e-02 1.00005e+02]\n",
      " [6.40000e+01 1.60000e-01 1.00001e+02]\n",
      " [1.28000e+02 3.00000e-01 1.00000e+02]\n",
      " [2.56000e+02 5.90000e-01 1.00000e+02]\n",
      " [5.12000e+02 1.17000e+00 1.00000e+02]\n",
      " [1.02400e+03 2.35000e+00 1.00000e+02]\n",
      " [2.04800e+03 4.68000e+00 1.00000e+02]\n",
      " [4.09600e+03 9.40000e+00 1.00000e+02]\n",
      " [8.19200e+03 1.88200e+01 1.00000e+02]\n",
      " [1.63840e+04 3.75700e+01 1.00000e+02]\n",
      " [0.00000e+00 1.00000e-02 1.04720e+02]\n",
      " [1.00000e+00 0.00000e+00 1.00264e+02]\n",
      " [2.00000e+00 2.00000e-02 9.99833e+01]\n",
      " [3.00000e+00 4.00000e-02 1.00000e+02]\n",
      " [4.00000e+00 1.30000e-01 1.00000e+02]\n",
      " [5.00000e+00 3.00000e-01 1.00000e+02]\n",
      " [6.00000e+00 5.90000e-01 1.00000e+02]\n",
      " [7.00000e+00 1.14000e+00 1.00000e+02]\n",
      " [8.00000e+00 2.20000e+00 1.00000e+02]\n",
      " [9.00000e+00 4.29000e+00 1.00000e+02]\n",
      " [1.00000e+01 8.35000e+00 1.00000e+02]\n",
      " [1.10000e+01 1.64700e+01 1.00000e+02]\n",
      " [1.20000e+01 3.26900e+01 1.00000e+02]\n",
      " [1.30000e+01 6.54000e+01 1.00000e+02]\n",
      " [1.40000e+01 1.31500e+02 1.00000e+02]]\n"
     ]
    }
   ],
   "source": [
    "print(incoming)\\"
   ]
  },
  {
   "cell_type": "code",
   "execution_count": null,
   "metadata": {},
   "outputs": [],
   "source": []
  }
 ],
 "metadata": {
  "kernelspec": {
   "display_name": "Python 3",
   "language": "python",
   "name": "python3"
  },
  "language_info": {
   "codemirror_mode": {
    "name": "ipython",
    "version": 3
   },
   "file_extension": ".py",
   "mimetype": "text/x-python",
   "name": "python",
   "nbconvert_exporter": "python",
   "pygments_lexer": "ipython3",
   "version": "3.6.8"
  }
 },
 "nbformat": 4,
 "nbformat_minor": 2
}
